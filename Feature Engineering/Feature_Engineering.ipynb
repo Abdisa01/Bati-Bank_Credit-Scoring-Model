{
  "nbformat": 4,
  "nbformat_minor": 0,
  "metadata": {
    "colab": {
      "provenance": []
    },
    "kernelspec": {
      "name": "python3",
      "display_name": "Python 3"
    },
    "language_info": {
      "name": "python"
    }
  },
  "cells": [
    {
      "cell_type": "code",
      "execution_count": 59,
      "metadata": {
        "id": "tig04YmsRzAK"
      },
      "outputs": [],
      "source": [
        "import pandas as pd"
      ]
    },
    {
      "cell_type": "code",
      "source": [
        "data = pd.read_csv('/content/drive/MyDrive/Colab Notebooks/Bati-Bank_Credit-Scoring-Model/data/data.csv')"
      ],
      "metadata": {
        "id": "V5m-wgnNX9f1"
      },
      "execution_count": 60,
      "outputs": []
    },
    {
      "cell_type": "code",
      "source": [
        "print(data.columns.tolist())"
      ],
      "metadata": {
        "colab": {
          "base_uri": "https://localhost:8080/"
        },
        "id": "6yA60ujZmcrd",
        "outputId": "829f5e94-b2f6-4838-9aea-c3dcff1ec0c8"
      },
      "execution_count": 61,
      "outputs": [
        {
          "output_type": "stream",
          "name": "stdout",
          "text": [
            "['TransactionId', 'BatchId', 'AccountId', 'SubscriptionId', 'CustomerId', 'CurrencyCode', 'CountryCode', 'ProviderId', 'ProductId', 'ProductCategory', 'ChannelId', 'Amount', 'Value', 'TransactionStartTime', 'PricingStrategy', 'FraudResult']\n"
          ]
        }
      ]
    },
    {
      "cell_type": "code",
      "source": [
        "data['Amount'] = data['Amount'].fillna(data['Amount'].median())\n",
        "data['ProductCategory'] = data['ProductCategory'].fillna(data['ProductCategory'].mode()[0])"
      ],
      "metadata": {
        "id": "PTg4IPBgYfxc"
      },
      "execution_count": 62,
      "outputs": []
    },
    {
      "cell_type": "code",
      "source": [],
      "metadata": {
        "id": "iXECQq2lZAXS"
      },
      "execution_count": null,
      "outputs": []
    },
    {
      "cell_type": "code",
      "source": [
        "aggregate_features = data.groupby('CustomerId').agg(\n",
        "    Total_Transaction_Amount=('Amount', 'sum'),\n",
        "    Average_Transaction_Amount=('Amount', 'mean'),\n",
        "    Transaction_Count=('TransactionId', 'count'),\n",
        "    Std_Dev_Transaction_Amount=('Amount', 'std')\n",
        ").reset_index()\n",
        "\n"
      ],
      "metadata": {
        "id": "ZDTTpL3hYD5s"
      },
      "execution_count": 63,
      "outputs": []
    },
    {
      "cell_type": "code",
      "source": [
        "# Merging the aggregate features back to the original dataset\n",
        "data = data.merge(aggregate_features, on='CustomerId', how='left')\n",
        "data.head()"
      ],
      "metadata": {
        "colab": {
          "base_uri": "https://localhost:8080/",
          "height": 226
        },
        "id": "iC8hUtZwb-zG",
        "outputId": "91f6cdb3-e03f-4022-8488-66a6bcda477a"
      },
      "execution_count": 64,
      "outputs": [
        {
          "output_type": "execute_result",
          "data": {
            "text/plain": [
              "         TransactionId         BatchId       AccountId       SubscriptionId  \\\n",
              "0  TransactionId_76871   BatchId_36123  AccountId_3957   SubscriptionId_887   \n",
              "1  TransactionId_73770   BatchId_15642  AccountId_4841  SubscriptionId_3829   \n",
              "2  TransactionId_26203   BatchId_53941  AccountId_4229   SubscriptionId_222   \n",
              "3    TransactionId_380  BatchId_102363   AccountId_648  SubscriptionId_2185   \n",
              "4  TransactionId_28195   BatchId_38780  AccountId_4841  SubscriptionId_3829   \n",
              "\n",
              "        CustomerId CurrencyCode  CountryCode    ProviderId     ProductId  \\\n",
              "0  CustomerId_4406          UGX          256  ProviderId_6  ProductId_10   \n",
              "1  CustomerId_4406          UGX          256  ProviderId_4   ProductId_6   \n",
              "2  CustomerId_4683          UGX          256  ProviderId_6   ProductId_1   \n",
              "3   CustomerId_988          UGX          256  ProviderId_1  ProductId_21   \n",
              "4   CustomerId_988          UGX          256  ProviderId_4   ProductId_6   \n",
              "\n",
              "      ProductCategory    ChannelId   Amount  Value  TransactionStartTime  \\\n",
              "0             airtime  ChannelId_3   1000.0   1000  2018-11-15T02:18:49Z   \n",
              "1  financial_services  ChannelId_2    -20.0     20  2018-11-15T02:19:08Z   \n",
              "2             airtime  ChannelId_3    500.0    500  2018-11-15T02:44:21Z   \n",
              "3        utility_bill  ChannelId_3  20000.0  21800  2018-11-15T03:32:55Z   \n",
              "4  financial_services  ChannelId_2   -644.0    644  2018-11-15T03:34:21Z   \n",
              "\n",
              "   PricingStrategy  FraudResult  Total_Transaction_Amount  \\\n",
              "0                2            0                 109921.75   \n",
              "1                2            0                 109921.75   \n",
              "2                2            0                   1000.00   \n",
              "3                2            0                 228727.20   \n",
              "4                2            0                 228727.20   \n",
              "\n",
              "   Average_Transaction_Amount  Transaction_Count  Std_Dev_Transaction_Amount  \n",
              "0                  923.712185                119                 3042.294251  \n",
              "1                  923.712185                119                 3042.294251  \n",
              "2                  500.000000                  2                    0.000000  \n",
              "3                 6019.136842                 38                17169.241610  \n",
              "4                 6019.136842                 38                17169.241610  "
            ],
            "text/html": [
              "\n",
              "  <div id=\"df-185047ea-682d-44cb-b7f1-7c46716f56b1\" class=\"colab-df-container\">\n",
              "    <div>\n",
              "<style scoped>\n",
              "    .dataframe tbody tr th:only-of-type {\n",
              "        vertical-align: middle;\n",
              "    }\n",
              "\n",
              "    .dataframe tbody tr th {\n",
              "        vertical-align: top;\n",
              "    }\n",
              "\n",
              "    .dataframe thead th {\n",
              "        text-align: right;\n",
              "    }\n",
              "</style>\n",
              "<table border=\"1\" class=\"dataframe\">\n",
              "  <thead>\n",
              "    <tr style=\"text-align: right;\">\n",
              "      <th></th>\n",
              "      <th>TransactionId</th>\n",
              "      <th>BatchId</th>\n",
              "      <th>AccountId</th>\n",
              "      <th>SubscriptionId</th>\n",
              "      <th>CustomerId</th>\n",
              "      <th>CurrencyCode</th>\n",
              "      <th>CountryCode</th>\n",
              "      <th>ProviderId</th>\n",
              "      <th>ProductId</th>\n",
              "      <th>ProductCategory</th>\n",
              "      <th>ChannelId</th>\n",
              "      <th>Amount</th>\n",
              "      <th>Value</th>\n",
              "      <th>TransactionStartTime</th>\n",
              "      <th>PricingStrategy</th>\n",
              "      <th>FraudResult</th>\n",
              "      <th>Total_Transaction_Amount</th>\n",
              "      <th>Average_Transaction_Amount</th>\n",
              "      <th>Transaction_Count</th>\n",
              "      <th>Std_Dev_Transaction_Amount</th>\n",
              "    </tr>\n",
              "  </thead>\n",
              "  <tbody>\n",
              "    <tr>\n",
              "      <th>0</th>\n",
              "      <td>TransactionId_76871</td>\n",
              "      <td>BatchId_36123</td>\n",
              "      <td>AccountId_3957</td>\n",
              "      <td>SubscriptionId_887</td>\n",
              "      <td>CustomerId_4406</td>\n",
              "      <td>UGX</td>\n",
              "      <td>256</td>\n",
              "      <td>ProviderId_6</td>\n",
              "      <td>ProductId_10</td>\n",
              "      <td>airtime</td>\n",
              "      <td>ChannelId_3</td>\n",
              "      <td>1000.0</td>\n",
              "      <td>1000</td>\n",
              "      <td>2018-11-15T02:18:49Z</td>\n",
              "      <td>2</td>\n",
              "      <td>0</td>\n",
              "      <td>109921.75</td>\n",
              "      <td>923.712185</td>\n",
              "      <td>119</td>\n",
              "      <td>3042.294251</td>\n",
              "    </tr>\n",
              "    <tr>\n",
              "      <th>1</th>\n",
              "      <td>TransactionId_73770</td>\n",
              "      <td>BatchId_15642</td>\n",
              "      <td>AccountId_4841</td>\n",
              "      <td>SubscriptionId_3829</td>\n",
              "      <td>CustomerId_4406</td>\n",
              "      <td>UGX</td>\n",
              "      <td>256</td>\n",
              "      <td>ProviderId_4</td>\n",
              "      <td>ProductId_6</td>\n",
              "      <td>financial_services</td>\n",
              "      <td>ChannelId_2</td>\n",
              "      <td>-20.0</td>\n",
              "      <td>20</td>\n",
              "      <td>2018-11-15T02:19:08Z</td>\n",
              "      <td>2</td>\n",
              "      <td>0</td>\n",
              "      <td>109921.75</td>\n",
              "      <td>923.712185</td>\n",
              "      <td>119</td>\n",
              "      <td>3042.294251</td>\n",
              "    </tr>\n",
              "    <tr>\n",
              "      <th>2</th>\n",
              "      <td>TransactionId_26203</td>\n",
              "      <td>BatchId_53941</td>\n",
              "      <td>AccountId_4229</td>\n",
              "      <td>SubscriptionId_222</td>\n",
              "      <td>CustomerId_4683</td>\n",
              "      <td>UGX</td>\n",
              "      <td>256</td>\n",
              "      <td>ProviderId_6</td>\n",
              "      <td>ProductId_1</td>\n",
              "      <td>airtime</td>\n",
              "      <td>ChannelId_3</td>\n",
              "      <td>500.0</td>\n",
              "      <td>500</td>\n",
              "      <td>2018-11-15T02:44:21Z</td>\n",
              "      <td>2</td>\n",
              "      <td>0</td>\n",
              "      <td>1000.00</td>\n",
              "      <td>500.000000</td>\n",
              "      <td>2</td>\n",
              "      <td>0.000000</td>\n",
              "    </tr>\n",
              "    <tr>\n",
              "      <th>3</th>\n",
              "      <td>TransactionId_380</td>\n",
              "      <td>BatchId_102363</td>\n",
              "      <td>AccountId_648</td>\n",
              "      <td>SubscriptionId_2185</td>\n",
              "      <td>CustomerId_988</td>\n",
              "      <td>UGX</td>\n",
              "      <td>256</td>\n",
              "      <td>ProviderId_1</td>\n",
              "      <td>ProductId_21</td>\n",
              "      <td>utility_bill</td>\n",
              "      <td>ChannelId_3</td>\n",
              "      <td>20000.0</td>\n",
              "      <td>21800</td>\n",
              "      <td>2018-11-15T03:32:55Z</td>\n",
              "      <td>2</td>\n",
              "      <td>0</td>\n",
              "      <td>228727.20</td>\n",
              "      <td>6019.136842</td>\n",
              "      <td>38</td>\n",
              "      <td>17169.241610</td>\n",
              "    </tr>\n",
              "    <tr>\n",
              "      <th>4</th>\n",
              "      <td>TransactionId_28195</td>\n",
              "      <td>BatchId_38780</td>\n",
              "      <td>AccountId_4841</td>\n",
              "      <td>SubscriptionId_3829</td>\n",
              "      <td>CustomerId_988</td>\n",
              "      <td>UGX</td>\n",
              "      <td>256</td>\n",
              "      <td>ProviderId_4</td>\n",
              "      <td>ProductId_6</td>\n",
              "      <td>financial_services</td>\n",
              "      <td>ChannelId_2</td>\n",
              "      <td>-644.0</td>\n",
              "      <td>644</td>\n",
              "      <td>2018-11-15T03:34:21Z</td>\n",
              "      <td>2</td>\n",
              "      <td>0</td>\n",
              "      <td>228727.20</td>\n",
              "      <td>6019.136842</td>\n",
              "      <td>38</td>\n",
              "      <td>17169.241610</td>\n",
              "    </tr>\n",
              "  </tbody>\n",
              "</table>\n",
              "</div>\n",
              "    <div class=\"colab-df-buttons\">\n",
              "\n",
              "  <div class=\"colab-df-container\">\n",
              "    <button class=\"colab-df-convert\" onclick=\"convertToInteractive('df-185047ea-682d-44cb-b7f1-7c46716f56b1')\"\n",
              "            title=\"Convert this dataframe to an interactive table.\"\n",
              "            style=\"display:none;\">\n",
              "\n",
              "  <svg xmlns=\"http://www.w3.org/2000/svg\" height=\"24px\" viewBox=\"0 -960 960 960\">\n",
              "    <path d=\"M120-120v-720h720v720H120Zm60-500h600v-160H180v160Zm220 220h160v-160H400v160Zm0 220h160v-160H400v160ZM180-400h160v-160H180v160Zm440 0h160v-160H620v160ZM180-180h160v-160H180v160Zm440 0h160v-160H620v160Z\"/>\n",
              "  </svg>\n",
              "    </button>\n",
              "\n",
              "  <style>\n",
              "    .colab-df-container {\n",
              "      display:flex;\n",
              "      gap: 12px;\n",
              "    }\n",
              "\n",
              "    .colab-df-convert {\n",
              "      background-color: #E8F0FE;\n",
              "      border: none;\n",
              "      border-radius: 50%;\n",
              "      cursor: pointer;\n",
              "      display: none;\n",
              "      fill: #1967D2;\n",
              "      height: 32px;\n",
              "      padding: 0 0 0 0;\n",
              "      width: 32px;\n",
              "    }\n",
              "\n",
              "    .colab-df-convert:hover {\n",
              "      background-color: #E2EBFA;\n",
              "      box-shadow: 0px 1px 2px rgba(60, 64, 67, 0.3), 0px 1px 3px 1px rgba(60, 64, 67, 0.15);\n",
              "      fill: #174EA6;\n",
              "    }\n",
              "\n",
              "    .colab-df-buttons div {\n",
              "      margin-bottom: 4px;\n",
              "    }\n",
              "\n",
              "    [theme=dark] .colab-df-convert {\n",
              "      background-color: #3B4455;\n",
              "      fill: #D2E3FC;\n",
              "    }\n",
              "\n",
              "    [theme=dark] .colab-df-convert:hover {\n",
              "      background-color: #434B5C;\n",
              "      box-shadow: 0px 1px 3px 1px rgba(0, 0, 0, 0.15);\n",
              "      filter: drop-shadow(0px 1px 2px rgba(0, 0, 0, 0.3));\n",
              "      fill: #FFFFFF;\n",
              "    }\n",
              "  </style>\n",
              "\n",
              "    <script>\n",
              "      const buttonEl =\n",
              "        document.querySelector('#df-185047ea-682d-44cb-b7f1-7c46716f56b1 button.colab-df-convert');\n",
              "      buttonEl.style.display =\n",
              "        google.colab.kernel.accessAllowed ? 'block' : 'none';\n",
              "\n",
              "      async function convertToInteractive(key) {\n",
              "        const element = document.querySelector('#df-185047ea-682d-44cb-b7f1-7c46716f56b1');\n",
              "        const dataTable =\n",
              "          await google.colab.kernel.invokeFunction('convertToInteractive',\n",
              "                                                    [key], {});\n",
              "        if (!dataTable) return;\n",
              "\n",
              "        const docLinkHtml = 'Like what you see? Visit the ' +\n",
              "          '<a target=\"_blank\" href=https://colab.research.google.com/notebooks/data_table.ipynb>data table notebook</a>'\n",
              "          + ' to learn more about interactive tables.';\n",
              "        element.innerHTML = '';\n",
              "        dataTable['output_type'] = 'display_data';\n",
              "        await google.colab.output.renderOutput(dataTable, element);\n",
              "        const docLink = document.createElement('div');\n",
              "        docLink.innerHTML = docLinkHtml;\n",
              "        element.appendChild(docLink);\n",
              "      }\n",
              "    </script>\n",
              "  </div>\n",
              "\n",
              "\n",
              "<div id=\"df-5a559cbb-bb78-462a-bd35-55ce221b9244\">\n",
              "  <button class=\"colab-df-quickchart\" onclick=\"quickchart('df-5a559cbb-bb78-462a-bd35-55ce221b9244')\"\n",
              "            title=\"Suggest charts\"\n",
              "            style=\"display:none;\">\n",
              "\n",
              "<svg xmlns=\"http://www.w3.org/2000/svg\" height=\"24px\"viewBox=\"0 0 24 24\"\n",
              "     width=\"24px\">\n",
              "    <g>\n",
              "        <path d=\"M19 3H5c-1.1 0-2 .9-2 2v14c0 1.1.9 2 2 2h14c1.1 0 2-.9 2-2V5c0-1.1-.9-2-2-2zM9 17H7v-7h2v7zm4 0h-2V7h2v10zm4 0h-2v-4h2v4z\"/>\n",
              "    </g>\n",
              "</svg>\n",
              "  </button>\n",
              "\n",
              "<style>\n",
              "  .colab-df-quickchart {\n",
              "      --bg-color: #E8F0FE;\n",
              "      --fill-color: #1967D2;\n",
              "      --hover-bg-color: #E2EBFA;\n",
              "      --hover-fill-color: #174EA6;\n",
              "      --disabled-fill-color: #AAA;\n",
              "      --disabled-bg-color: #DDD;\n",
              "  }\n",
              "\n",
              "  [theme=dark] .colab-df-quickchart {\n",
              "      --bg-color: #3B4455;\n",
              "      --fill-color: #D2E3FC;\n",
              "      --hover-bg-color: #434B5C;\n",
              "      --hover-fill-color: #FFFFFF;\n",
              "      --disabled-bg-color: #3B4455;\n",
              "      --disabled-fill-color: #666;\n",
              "  }\n",
              "\n",
              "  .colab-df-quickchart {\n",
              "    background-color: var(--bg-color);\n",
              "    border: none;\n",
              "    border-radius: 50%;\n",
              "    cursor: pointer;\n",
              "    display: none;\n",
              "    fill: var(--fill-color);\n",
              "    height: 32px;\n",
              "    padding: 0;\n",
              "    width: 32px;\n",
              "  }\n",
              "\n",
              "  .colab-df-quickchart:hover {\n",
              "    background-color: var(--hover-bg-color);\n",
              "    box-shadow: 0 1px 2px rgba(60, 64, 67, 0.3), 0 1px 3px 1px rgba(60, 64, 67, 0.15);\n",
              "    fill: var(--button-hover-fill-color);\n",
              "  }\n",
              "\n",
              "  .colab-df-quickchart-complete:disabled,\n",
              "  .colab-df-quickchart-complete:disabled:hover {\n",
              "    background-color: var(--disabled-bg-color);\n",
              "    fill: var(--disabled-fill-color);\n",
              "    box-shadow: none;\n",
              "  }\n",
              "\n",
              "  .colab-df-spinner {\n",
              "    border: 2px solid var(--fill-color);\n",
              "    border-color: transparent;\n",
              "    border-bottom-color: var(--fill-color);\n",
              "    animation:\n",
              "      spin 1s steps(1) infinite;\n",
              "  }\n",
              "\n",
              "  @keyframes spin {\n",
              "    0% {\n",
              "      border-color: transparent;\n",
              "      border-bottom-color: var(--fill-color);\n",
              "      border-left-color: var(--fill-color);\n",
              "    }\n",
              "    20% {\n",
              "      border-color: transparent;\n",
              "      border-left-color: var(--fill-color);\n",
              "      border-top-color: var(--fill-color);\n",
              "    }\n",
              "    30% {\n",
              "      border-color: transparent;\n",
              "      border-left-color: var(--fill-color);\n",
              "      border-top-color: var(--fill-color);\n",
              "      border-right-color: var(--fill-color);\n",
              "    }\n",
              "    40% {\n",
              "      border-color: transparent;\n",
              "      border-right-color: var(--fill-color);\n",
              "      border-top-color: var(--fill-color);\n",
              "    }\n",
              "    60% {\n",
              "      border-color: transparent;\n",
              "      border-right-color: var(--fill-color);\n",
              "    }\n",
              "    80% {\n",
              "      border-color: transparent;\n",
              "      border-right-color: var(--fill-color);\n",
              "      border-bottom-color: var(--fill-color);\n",
              "    }\n",
              "    90% {\n",
              "      border-color: transparent;\n",
              "      border-bottom-color: var(--fill-color);\n",
              "    }\n",
              "  }\n",
              "</style>\n",
              "\n",
              "  <script>\n",
              "    async function quickchart(key) {\n",
              "      const quickchartButtonEl =\n",
              "        document.querySelector('#' + key + ' button');\n",
              "      quickchartButtonEl.disabled = true;  // To prevent multiple clicks.\n",
              "      quickchartButtonEl.classList.add('colab-df-spinner');\n",
              "      try {\n",
              "        const charts = await google.colab.kernel.invokeFunction(\n",
              "            'suggestCharts', [key], {});\n",
              "      } catch (error) {\n",
              "        console.error('Error during call to suggestCharts:', error);\n",
              "      }\n",
              "      quickchartButtonEl.classList.remove('colab-df-spinner');\n",
              "      quickchartButtonEl.classList.add('colab-df-quickchart-complete');\n",
              "    }\n",
              "    (() => {\n",
              "      let quickchartButtonEl =\n",
              "        document.querySelector('#df-5a559cbb-bb78-462a-bd35-55ce221b9244 button');\n",
              "      quickchartButtonEl.style.display =\n",
              "        google.colab.kernel.accessAllowed ? 'block' : 'none';\n",
              "    })();\n",
              "  </script>\n",
              "</div>\n",
              "\n",
              "    </div>\n",
              "  </div>\n"
            ],
            "application/vnd.google.colaboratory.intrinsic+json": {
              "type": "dataframe",
              "variable_name": "data",
              "summary": "{\n  \"name\": \"data\",\n  \"rows\": 95662,\n  \"fields\": [\n    {\n      \"column\": \"TransactionId\",\n      \"properties\": {\n        \"dtype\": \"string\",\n        \"num_unique_values\": 95662,\n        \"samples\": [\n          \"TransactionId_121021\",\n          \"TransactionId_36418\",\n          \"TransactionId_43176\"\n        ],\n        \"semantic_type\": \"\",\n        \"description\": \"\"\n      }\n    },\n    {\n      \"column\": \"BatchId\",\n      \"properties\": {\n        \"dtype\": \"string\",\n        \"num_unique_values\": 94809,\n        \"samples\": [\n          \"BatchId_7611\",\n          \"BatchId_136833\",\n          \"BatchId_27155\"\n        ],\n        \"semantic_type\": \"\",\n        \"description\": \"\"\n      }\n    },\n    {\n      \"column\": \"AccountId\",\n      \"properties\": {\n        \"dtype\": \"category\",\n        \"num_unique_values\": 3633,\n        \"samples\": [\n          \"AccountId_2289\",\n          \"AccountId_835\",\n          \"AccountId_3178\"\n        ],\n        \"semantic_type\": \"\",\n        \"description\": \"\"\n      }\n    },\n    {\n      \"column\": \"SubscriptionId\",\n      \"properties\": {\n        \"dtype\": \"category\",\n        \"num_unique_values\": 3627,\n        \"samples\": [\n          \"SubscriptionId_3800\",\n          \"SubscriptionId_1241\",\n          \"SubscriptionId_520\"\n        ],\n        \"semantic_type\": \"\",\n        \"description\": \"\"\n      }\n    },\n    {\n      \"column\": \"CustomerId\",\n      \"properties\": {\n        \"dtype\": \"category\",\n        \"num_unique_values\": 3742,\n        \"samples\": [\n          \"CustomerId_4447\",\n          \"CustomerId_4573\",\n          \"CustomerId_2807\"\n        ],\n        \"semantic_type\": \"\",\n        \"description\": \"\"\n      }\n    },\n    {\n      \"column\": \"CurrencyCode\",\n      \"properties\": {\n        \"dtype\": \"category\",\n        \"num_unique_values\": 1,\n        \"samples\": [\n          \"UGX\"\n        ],\n        \"semantic_type\": \"\",\n        \"description\": \"\"\n      }\n    },\n    {\n      \"column\": \"CountryCode\",\n      \"properties\": {\n        \"dtype\": \"number\",\n        \"std\": 0,\n        \"min\": 256,\n        \"max\": 256,\n        \"num_unique_values\": 1,\n        \"samples\": [\n          256\n        ],\n        \"semantic_type\": \"\",\n        \"description\": \"\"\n      }\n    },\n    {\n      \"column\": \"ProviderId\",\n      \"properties\": {\n        \"dtype\": \"category\",\n        \"num_unique_values\": 6,\n        \"samples\": [\n          \"ProviderId_6\"\n        ],\n        \"semantic_type\": \"\",\n        \"description\": \"\"\n      }\n    },\n    {\n      \"column\": \"ProductId\",\n      \"properties\": {\n        \"dtype\": \"category\",\n        \"num_unique_values\": 23,\n        \"samples\": [\n          \"ProductId_13\"\n        ],\n        \"semantic_type\": \"\",\n        \"description\": \"\"\n      }\n    },\n    {\n      \"column\": \"ProductCategory\",\n      \"properties\": {\n        \"dtype\": \"category\",\n        \"num_unique_values\": 9,\n        \"samples\": [\n          \"movies\"\n        ],\n        \"semantic_type\": \"\",\n        \"description\": \"\"\n      }\n    },\n    {\n      \"column\": \"ChannelId\",\n      \"properties\": {\n        \"dtype\": \"category\",\n        \"num_unique_values\": 4,\n        \"samples\": [\n          \"ChannelId_2\"\n        ],\n        \"semantic_type\": \"\",\n        \"description\": \"\"\n      }\n    },\n    {\n      \"column\": \"Amount\",\n      \"properties\": {\n        \"dtype\": \"number\",\n        \"std\": 123306.7971643383,\n        \"min\": -1000000.0,\n        \"max\": 9880000.0,\n        \"num_unique_values\": 1676,\n        \"samples\": [\n          1395.0\n        ],\n        \"semantic_type\": \"\",\n        \"description\": \"\"\n      }\n    },\n    {\n      \"column\": \"Value\",\n      \"properties\": {\n        \"dtype\": \"number\",\n        \"std\": 123122,\n        \"min\": 2,\n        \"max\": 9880000,\n        \"num_unique_values\": 1517,\n        \"samples\": [\n          600000\n        ],\n        \"semantic_type\": \"\",\n        \"description\": \"\"\n      }\n    },\n    {\n      \"column\": \"TransactionStartTime\",\n      \"properties\": {\n        \"dtype\": \"object\",\n        \"num_unique_values\": 94556,\n        \"samples\": [\n          \"2019-01-12T20:27:27Z\"\n        ],\n        \"semantic_type\": \"\",\n        \"description\": \"\"\n      }\n    },\n    {\n      \"column\": \"PricingStrategy\",\n      \"properties\": {\n        \"dtype\": \"number\",\n        \"std\": 0,\n        \"min\": 0,\n        \"max\": 4,\n        \"num_unique_values\": 4,\n        \"samples\": [\n          4\n        ],\n        \"semantic_type\": \"\",\n        \"description\": \"\"\n      }\n    },\n    {\n      \"column\": \"FraudResult\",\n      \"properties\": {\n        \"dtype\": \"number\",\n        \"std\": 0,\n        \"min\": 0,\n        \"max\": 1,\n        \"num_unique_values\": 2,\n        \"samples\": [\n          1\n        ],\n        \"semantic_type\": \"\",\n        \"description\": \"\"\n      }\n    },\n    {\n      \"column\": \"Total_Transaction_Amount\",\n      \"properties\": {\n        \"dtype\": \"number\",\n        \"std\": 21802706.284768093,\n        \"min\": -104900000.0,\n        \"max\": 83451240.0,\n        \"num_unique_values\": 1799,\n        \"samples\": [\n          16000.0\n        ],\n        \"semantic_type\": \"\",\n        \"description\": \"\"\n      }\n    },\n    {\n      \"column\": \"Average_Transaction_Amount\",\n      \"properties\": {\n        \"dtype\": \"number\",\n        \"std\": 85683.52488527609,\n        \"min\": -425000.0,\n        \"max\": 8601821.142857144,\n        \"num_unique_values\": 1997,\n        \"samples\": [\n          6005.064935064935\n        ],\n        \"semantic_type\": \"\",\n        \"description\": \"\"\n      }\n    },\n    {\n      \"column\": \"Transaction_Count\",\n      \"properties\": {\n        \"dtype\": \"number\",\n        \"std\": 878,\n        \"min\": 1,\n        \"max\": 4091,\n        \"num_unique_values\": 221,\n        \"samples\": [\n          48\n        ],\n        \"semantic_type\": \"\",\n        \"description\": \"\"\n      }\n    },\n    {\n      \"column\": \"Std_Dev_Transaction_Amount\",\n      \"properties\": {\n        \"dtype\": \"number\",\n        \"std\": 89295.70486454453,\n        \"min\": 0.0,\n        \"max\": 3309916.123615392,\n        \"num_unique_values\": 2245,\n        \"samples\": [\n          4132.382055951411\n        ],\n        \"semantic_type\": \"\",\n        \"description\": \"\"\n      }\n    }\n  ]\n}"
            }
          },
          "metadata": {},
          "execution_count": 64
        }
      ]
    },
    {
      "cell_type": "code",
      "source": [
        "print(data.columns.to_list())"
      ],
      "metadata": {
        "colab": {
          "base_uri": "https://localhost:8080/"
        },
        "id": "rIq50cmDb-xP",
        "outputId": "ab6a147b-1ea6-4990-d9be-32d3851392da"
      },
      "execution_count": 65,
      "outputs": [
        {
          "output_type": "stream",
          "name": "stdout",
          "text": [
            "['TransactionId', 'BatchId', 'AccountId', 'SubscriptionId', 'CustomerId', 'CurrencyCode', 'CountryCode', 'ProviderId', 'ProductId', 'ProductCategory', 'ChannelId', 'Amount', 'Value', 'TransactionStartTime', 'PricingStrategy', 'FraudResult', 'Total_Transaction_Amount', 'Average_Transaction_Amount', 'Transaction_Count', 'Std_Dev_Transaction_Amount']\n"
          ]
        }
      ]
    },
    {
      "cell_type": "code",
      "source": [
        "data['TransactionStartTime'] = pd.to_datetime(data['TransactionStartTime'])\n",
        "data['TransactionHour'] = data['TransactionStartTime'].dt.hour\n",
        "data['TransactionDay'] = data['TransactionStartTime'].dt.day\n",
        "data['TransactionMonth'] = data['TransactionStartTime'].dt.month\n",
        "data['TransactionYear'] = data['TransactionStartTime'].dt.year"
      ],
      "metadata": {
        "id": "rT7siCZ5iOKL"
      },
      "execution_count": 66,
      "outputs": []
    },
    {
      "cell_type": "code",
      "source": [
        "print(\"Preview of time-based features:\")\n",
        "print(data.head())"
      ],
      "metadata": {
        "colab": {
          "base_uri": "https://localhost:8080/"
        },
        "id": "pxazI9ZSjCUn",
        "outputId": "ee785e33-ea72-46d4-b2e3-9a5052116cf5"
      },
      "execution_count": 67,
      "outputs": [
        {
          "output_type": "stream",
          "name": "stdout",
          "text": [
            "Preview of time-based features:\n",
            "         TransactionId         BatchId       AccountId       SubscriptionId  \\\n",
            "0  TransactionId_76871   BatchId_36123  AccountId_3957   SubscriptionId_887   \n",
            "1  TransactionId_73770   BatchId_15642  AccountId_4841  SubscriptionId_3829   \n",
            "2  TransactionId_26203   BatchId_53941  AccountId_4229   SubscriptionId_222   \n",
            "3    TransactionId_380  BatchId_102363   AccountId_648  SubscriptionId_2185   \n",
            "4  TransactionId_28195   BatchId_38780  AccountId_4841  SubscriptionId_3829   \n",
            "\n",
            "        CustomerId CurrencyCode  CountryCode    ProviderId     ProductId  \\\n",
            "0  CustomerId_4406          UGX          256  ProviderId_6  ProductId_10   \n",
            "1  CustomerId_4406          UGX          256  ProviderId_4   ProductId_6   \n",
            "2  CustomerId_4683          UGX          256  ProviderId_6   ProductId_1   \n",
            "3   CustomerId_988          UGX          256  ProviderId_1  ProductId_21   \n",
            "4   CustomerId_988          UGX          256  ProviderId_4   ProductId_6   \n",
            "\n",
            "      ProductCategory  ... PricingStrategy  FraudResult  \\\n",
            "0             airtime  ...               2            0   \n",
            "1  financial_services  ...               2            0   \n",
            "2             airtime  ...               2            0   \n",
            "3        utility_bill  ...               2            0   \n",
            "4  financial_services  ...               2            0   \n",
            "\n",
            "   Total_Transaction_Amount Average_Transaction_Amount  Transaction_Count  \\\n",
            "0                 109921.75                 923.712185                119   \n",
            "1                 109921.75                 923.712185                119   \n",
            "2                   1000.00                 500.000000                  2   \n",
            "3                 228727.20                6019.136842                 38   \n",
            "4                 228727.20                6019.136842                 38   \n",
            "\n",
            "   Std_Dev_Transaction_Amount  TransactionHour  TransactionDay  \\\n",
            "0                 3042.294251                2              15   \n",
            "1                 3042.294251                2              15   \n",
            "2                    0.000000                2              15   \n",
            "3                17169.241610                3              15   \n",
            "4                17169.241610                3              15   \n",
            "\n",
            "   TransactionMonth  TransactionYear  \n",
            "0                11             2018  \n",
            "1                11             2018  \n",
            "2                11             2018  \n",
            "3                11             2018  \n",
            "4                11             2018  \n",
            "\n",
            "[5 rows x 24 columns]\n"
          ]
        }
      ]
    },
    {
      "cell_type": "code",
      "source": [
        "print(data.columns.to_list())"
      ],
      "metadata": {
        "colab": {
          "base_uri": "https://localhost:8080/"
        },
        "id": "skbhyh6wbpzO",
        "outputId": "3d7fb7a0-2807-4ab2-eb00-c619128af705"
      },
      "execution_count": 68,
      "outputs": [
        {
          "output_type": "stream",
          "name": "stdout",
          "text": [
            "['TransactionId', 'BatchId', 'AccountId', 'SubscriptionId', 'CustomerId', 'CurrencyCode', 'CountryCode', 'ProviderId', 'ProductId', 'ProductCategory', 'ChannelId', 'Amount', 'Value', 'TransactionStartTime', 'PricingStrategy', 'FraudResult', 'Total_Transaction_Amount', 'Average_Transaction_Amount', 'Transaction_Count', 'Std_Dev_Transaction_Amount', 'TransactionHour', 'TransactionDay', 'TransactionMonth', 'TransactionYear']\n"
          ]
        }
      ]
    },
    {
      "cell_type": "code",
      "source": [
        "#df = pd.read_csv('/content/drive/MyDrive/Colab Notebooks/Bati-Bank_Credit-Scoring-Model/data/data.csv')"
      ],
      "metadata": {
        "id": "D0OXGZv1cDtQ"
      },
      "execution_count": 49,
      "outputs": []
    },
    {
      "cell_type": "code",
      "source": [
        "data = pd.get_dummies(data, columns=['ProductCategory', 'CurrencyCode', 'ChannelId'], drop_first=True)\n",
        "print(data.head())"
      ],
      "metadata": {
        "colab": {
          "base_uri": "https://localhost:8080/"
        },
        "id": "Egd93cRWkBqM",
        "outputId": "90a46b00-2eda-4451-90bc-0bc62a318433"
      },
      "execution_count": 69,
      "outputs": [
        {
          "output_type": "stream",
          "name": "stdout",
          "text": [
            "         TransactionId         BatchId       AccountId       SubscriptionId  \\\n",
            "0  TransactionId_76871   BatchId_36123  AccountId_3957   SubscriptionId_887   \n",
            "1  TransactionId_73770   BatchId_15642  AccountId_4841  SubscriptionId_3829   \n",
            "2  TransactionId_26203   BatchId_53941  AccountId_4229   SubscriptionId_222   \n",
            "3    TransactionId_380  BatchId_102363   AccountId_648  SubscriptionId_2185   \n",
            "4  TransactionId_28195   BatchId_38780  AccountId_4841  SubscriptionId_3829   \n",
            "\n",
            "        CustomerId  CountryCode    ProviderId     ProductId   Amount  Value  \\\n",
            "0  CustomerId_4406          256  ProviderId_6  ProductId_10   1000.0   1000   \n",
            "1  CustomerId_4406          256  ProviderId_4   ProductId_6    -20.0     20   \n",
            "2  CustomerId_4683          256  ProviderId_6   ProductId_1    500.0    500   \n",
            "3   CustomerId_988          256  ProviderId_1  ProductId_21  20000.0  21800   \n",
            "4   CustomerId_988          256  ProviderId_4   ProductId_6   -644.0    644   \n",
            "\n",
            "   ... ProductCategory_financial_services  ProductCategory_movies  \\\n",
            "0  ...                              False                   False   \n",
            "1  ...                               True                   False   \n",
            "2  ...                              False                   False   \n",
            "3  ...                              False                   False   \n",
            "4  ...                               True                   False   \n",
            "\n",
            "   ProductCategory_other  ProductCategory_ticket  ProductCategory_transport  \\\n",
            "0                  False                   False                      False   \n",
            "1                  False                   False                      False   \n",
            "2                  False                   False                      False   \n",
            "3                  False                   False                      False   \n",
            "4                  False                   False                      False   \n",
            "\n",
            "   ProductCategory_tv  ProductCategory_utility_bill  ChannelId_ChannelId_2  \\\n",
            "0               False                         False                  False   \n",
            "1               False                         False                   True   \n",
            "2               False                         False                  False   \n",
            "3               False                          True                  False   \n",
            "4               False                         False                   True   \n",
            "\n",
            "   ChannelId_ChannelId_3  ChannelId_ChannelId_5  \n",
            "0                   True                  False  \n",
            "1                  False                  False  \n",
            "2                   True                  False  \n",
            "3                   True                  False  \n",
            "4                  False                  False  \n",
            "\n",
            "[5 rows x 32 columns]\n"
          ]
        }
      ]
    },
    {
      "cell_type": "code",
      "source": [
        "from sklearn.preprocessing import LabelEncoder\n",
        "label_encoder = LabelEncoder()\n",
        "data['ProductId'] = label_encoder.fit_transform(data['ProductId'])\n",
        "data['CountryCode'] = label_encoder.fit_transform(data['CountryCode'])\n",
        "data['ProviderId'] = label_encoder.fit_transform(data['ProviderId'])\n",
        "print(data.head())"
      ],
      "metadata": {
        "colab": {
          "base_uri": "https://localhost:8080/"
        },
        "id": "8yLOLRwtlVmJ",
        "outputId": "be871b81-79bf-47d9-e70b-0b053e603cbc"
      },
      "execution_count": 70,
      "outputs": [
        {
          "output_type": "stream",
          "name": "stdout",
          "text": [
            "         TransactionId         BatchId       AccountId       SubscriptionId  \\\n",
            "0  TransactionId_76871   BatchId_36123  AccountId_3957   SubscriptionId_887   \n",
            "1  TransactionId_73770   BatchId_15642  AccountId_4841  SubscriptionId_3829   \n",
            "2  TransactionId_26203   BatchId_53941  AccountId_4229   SubscriptionId_222   \n",
            "3    TransactionId_380  BatchId_102363   AccountId_648  SubscriptionId_2185   \n",
            "4  TransactionId_28195   BatchId_38780  AccountId_4841  SubscriptionId_3829   \n",
            "\n",
            "        CustomerId  CountryCode  ProviderId  ProductId   Amount  Value  ...  \\\n",
            "0  CustomerId_4406            0           5          1   1000.0   1000  ...   \n",
            "1  CustomerId_4406            0           3         19    -20.0     20  ...   \n",
            "2  CustomerId_4683            0           5          0    500.0    500  ...   \n",
            "3   CustomerId_988            0           0         11  20000.0  21800  ...   \n",
            "4   CustomerId_988            0           3         19   -644.0    644  ...   \n",
            "\n",
            "  ProductCategory_financial_services  ProductCategory_movies  \\\n",
            "0                              False                   False   \n",
            "1                               True                   False   \n",
            "2                              False                   False   \n",
            "3                              False                   False   \n",
            "4                               True                   False   \n",
            "\n",
            "   ProductCategory_other  ProductCategory_ticket  ProductCategory_transport  \\\n",
            "0                  False                   False                      False   \n",
            "1                  False                   False                      False   \n",
            "2                  False                   False                      False   \n",
            "3                  False                   False                      False   \n",
            "4                  False                   False                      False   \n",
            "\n",
            "   ProductCategory_tv  ProductCategory_utility_bill  ChannelId_ChannelId_2  \\\n",
            "0               False                         False                  False   \n",
            "1               False                         False                   True   \n",
            "2               False                         False                  False   \n",
            "3               False                          True                  False   \n",
            "4               False                         False                   True   \n",
            "\n",
            "   ChannelId_ChannelId_3  ChannelId_ChannelId_5  \n",
            "0                   True                  False  \n",
            "1                  False                  False  \n",
            "2                   True                  False  \n",
            "3                   True                  False  \n",
            "4                  False                  False  \n",
            "\n",
            "[5 rows x 32 columns]\n"
          ]
        }
      ]
    },
    {
      "cell_type": "code",
      "source": [
        "print(data.columns)\n"
      ],
      "metadata": {
        "colab": {
          "base_uri": "https://localhost:8080/"
        },
        "id": "PxLD49edqhEy",
        "outputId": "88cf9bc4-b850-4f14-871f-de70d899a59a"
      },
      "execution_count": 71,
      "outputs": [
        {
          "output_type": "stream",
          "name": "stdout",
          "text": [
            "Index(['TransactionId', 'BatchId', 'AccountId', 'SubscriptionId', 'CustomerId',\n",
            "       'CountryCode', 'ProviderId', 'ProductId', 'Amount', 'Value',\n",
            "       'TransactionStartTime', 'PricingStrategy', 'FraudResult',\n",
            "       'Total_Transaction_Amount', 'Average_Transaction_Amount',\n",
            "       'Transaction_Count', 'Std_Dev_Transaction_Amount', 'TransactionHour',\n",
            "       'TransactionDay', 'TransactionMonth', 'TransactionYear',\n",
            "       'ProductCategory_data_bundles', 'ProductCategory_financial_services',\n",
            "       'ProductCategory_movies', 'ProductCategory_other',\n",
            "       'ProductCategory_ticket', 'ProductCategory_transport',\n",
            "       'ProductCategory_tv', 'ProductCategory_utility_bill',\n",
            "       'ChannelId_ChannelId_2', 'ChannelId_ChannelId_3',\n",
            "       'ChannelId_ChannelId_5'],\n",
            "      dtype='object')\n"
          ]
        }
      ]
    },
    {
      "cell_type": "code",
      "source": [
        "from sklearn.preprocessing import MinMaxScaler\n",
        "scaler = MinMaxScaler()\n",
        "data[['Amount', 'Total_Transaction_Amount', 'Average_Transaction_Amount']] = scaler.fit_transform(\n",
        "    data[['Amount', 'Total_Transaction_Amount', 'Average_Transaction_Amount']])\n"
      ],
      "metadata": {
        "id": "00Q9Hz-hZwm3"
      },
      "execution_count": 72,
      "outputs": []
    },
    {
      "cell_type": "code",
      "source": [
        "from sklearn.preprocessing import StandardScaler\n",
        "scaler = StandardScaler()\n",
        "data[['Amount', 'Total_Transaction_Amount', 'Average_Transaction_Amount']] = scaler.fit_transform(\n",
        "    data[['Amount', 'Total_Transaction_Amount', 'Average_Transaction_Amount']])\n"
      ],
      "metadata": {
        "id": "0vVl4cn3bEQY"
      },
      "execution_count": 73,
      "outputs": []
    },
    {
      "cell_type": "code",
      "source": [
        "print(data.columns)"
      ],
      "metadata": {
        "colab": {
          "base_uri": "https://localhost:8080/"
        },
        "id": "vjkZjb7kex35",
        "outputId": "66b78966-18ca-47c5-bfa5-83cedb959911"
      },
      "execution_count": 74,
      "outputs": [
        {
          "output_type": "stream",
          "name": "stdout",
          "text": [
            "Index(['TransactionId', 'BatchId', 'AccountId', 'SubscriptionId', 'CustomerId',\n",
            "       'CountryCode', 'ProviderId', 'ProductId', 'Amount', 'Value',\n",
            "       'TransactionStartTime', 'PricingStrategy', 'FraudResult',\n",
            "       'Total_Transaction_Amount', 'Average_Transaction_Amount',\n",
            "       'Transaction_Count', 'Std_Dev_Transaction_Amount', 'TransactionHour',\n",
            "       'TransactionDay', 'TransactionMonth', 'TransactionYear',\n",
            "       'ProductCategory_data_bundles', 'ProductCategory_financial_services',\n",
            "       'ProductCategory_movies', 'ProductCategory_other',\n",
            "       'ProductCategory_ticket', 'ProductCategory_transport',\n",
            "       'ProductCategory_tv', 'ProductCategory_utility_bill',\n",
            "       'ChannelId_ChannelId_2', 'ChannelId_ChannelId_3',\n",
            "       'ChannelId_ChannelId_5'],\n",
            "      dtype='object')\n"
          ]
        }
      ]
    },
    {
      "cell_type": "code",
      "source": [
        "data.to_csv('modified_dataset.csv', index=False)"
      ],
      "metadata": {
        "id": "JuM0QG-4lvNN"
      },
      "execution_count": 75,
      "outputs": []
    }
  ]
}